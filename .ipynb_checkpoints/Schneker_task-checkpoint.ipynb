{
 "cells": [
  {
   "cell_type": "code",
   "execution_count": 1,
   "metadata": {},
   "outputs": [],
   "source": [
    "import pandas as pd\n"
   ]
  },
  {
   "cell_type": "code",
   "execution_count": 2,
   "metadata": {},
   "outputs": [],
   "source": [
    "train= pd.read_csv(\"train_data.csv\",sep=\";\")"
   ]
  },
  {
   "cell_type": "code",
   "execution_count": 3,
   "metadata": {},
   "outputs": [
    {
     "data": {
      "text/html": [
       "<div>\n",
       "<style scoped>\n",
       "    .dataframe tbody tr th:only-of-type {\n",
       "        vertical-align: middle;\n",
       "    }\n",
       "\n",
       "    .dataframe tbody tr th {\n",
       "        vertical-align: top;\n",
       "    }\n",
       "\n",
       "    .dataframe thead th {\n",
       "        text-align: right;\n",
       "    }\n",
       "</style>\n",
       "<table border=\"1\" class=\"dataframe\">\n",
       "  <thead>\n",
       "    <tr style=\"text-align: right;\">\n",
       "      <th></th>\n",
       "      <th>origin_latitude</th>\n",
       "      <th>origin_longitude</th>\n",
       "      <th>destination_latitude</th>\n",
       "      <th>destination_longitude</th>\n",
       "      <th>weight</th>\n",
       "      <th>loading_meters</th>\n",
       "      <th>is_adr</th>\n",
       "      <th>shipping_date</th>\n",
       "      <th>cost</th>\n",
       "    </tr>\n",
       "  </thead>\n",
       "  <tbody>\n",
       "    <tr>\n",
       "      <th>0</th>\n",
       "      <td>27.22</td>\n",
       "      <td>105.59</td>\n",
       "      <td>26.91</td>\n",
       "      <td>108.67</td>\n",
       "      <td>0.513</td>\n",
       "      <td>0.195</td>\n",
       "      <td>True</td>\n",
       "      <td>2017-04-24</td>\n",
       "      <td>0.247</td>\n",
       "    </tr>\n",
       "    <tr>\n",
       "      <th>1</th>\n",
       "      <td>25.00</td>\n",
       "      <td>109.79</td>\n",
       "      <td>25.34</td>\n",
       "      <td>108.59</td>\n",
       "      <td>0.484</td>\n",
       "      <td>0.195</td>\n",
       "      <td>True</td>\n",
       "      <td>2017-07-27</td>\n",
       "      <td>0.248</td>\n",
       "    </tr>\n",
       "    <tr>\n",
       "      <th>2</th>\n",
       "      <td>27.10</td>\n",
       "      <td>105.60</td>\n",
       "      <td>29.35</td>\n",
       "      <td>106.54</td>\n",
       "      <td>0.484</td>\n",
       "      <td>0.195</td>\n",
       "      <td>True</td>\n",
       "      <td>2017-02-03</td>\n",
       "      <td>0.276</td>\n",
       "    </tr>\n",
       "    <tr>\n",
       "      <th>3</th>\n",
       "      <td>24.72</td>\n",
       "      <td>106.25</td>\n",
       "      <td>23.43</td>\n",
       "      <td>109.78</td>\n",
       "      <td>0.504</td>\n",
       "      <td>0.195</td>\n",
       "      <td>True</td>\n",
       "      <td>2017-04-03</td>\n",
       "      <td>0.276</td>\n",
       "    </tr>\n",
       "    <tr>\n",
       "      <th>4</th>\n",
       "      <td>22.33</td>\n",
       "      <td>108.37</td>\n",
       "      <td>29.38</td>\n",
       "      <td>111.50</td>\n",
       "      <td>0.484</td>\n",
       "      <td>0.195</td>\n",
       "      <td>True</td>\n",
       "      <td>2018-11-08</td>\n",
       "      <td>0.553</td>\n",
       "    </tr>\n",
       "  </tbody>\n",
       "</table>\n",
       "</div>"
      ],
      "text/plain": [
       "   origin_latitude  origin_longitude  destination_latitude  \\\n",
       "0            27.22            105.59                 26.91   \n",
       "1            25.00            109.79                 25.34   \n",
       "2            27.10            105.60                 29.35   \n",
       "3            24.72            106.25                 23.43   \n",
       "4            22.33            108.37                 29.38   \n",
       "\n",
       "   destination_longitude  weight  loading_meters  is_adr shipping_date   cost  \n",
       "0                 108.67   0.513           0.195    True    2017-04-24  0.247  \n",
       "1                 108.59   0.484           0.195    True    2017-07-27  0.248  \n",
       "2                 106.54   0.484           0.195    True    2017-02-03  0.276  \n",
       "3                 109.78   0.504           0.195    True    2017-04-03  0.276  \n",
       "4                 111.50   0.484           0.195    True    2018-11-08  0.553  "
      ]
     },
     "execution_count": 3,
     "metadata": {},
     "output_type": "execute_result"
    }
   ],
   "source": [
    "train.head(5)"
   ]
  },
  {
   "cell_type": "code",
   "execution_count": 4,
   "metadata": {},
   "outputs": [
    {
     "data": {
      "text/plain": [
       "(251155, 9)"
      ]
     },
     "execution_count": 4,
     "metadata": {},
     "output_type": "execute_result"
    }
   ],
   "source": [
    "train.shape"
   ]
  },
  {
   "cell_type": "code",
   "execution_count": 5,
   "metadata": {},
   "outputs": [
    {
     "data": {
      "text/plain": [
       "origin_latitude          0\n",
       "origin_longitude         0\n",
       "destination_latitude     0\n",
       "destination_longitude    0\n",
       "weight                   0\n",
       "loading_meters           0\n",
       "is_adr                   0\n",
       "shipping_date            0\n",
       "cost                     0\n",
       "dtype: int64"
      ]
     },
     "execution_count": 5,
     "metadata": {},
     "output_type": "execute_result"
    }
   ],
   "source": [
    "train.isnull().sum()"
   ]
  },
  {
   "cell_type": "code",
   "execution_count": 6,
   "metadata": {},
   "outputs": [
    {
     "name": "stdout",
     "output_type": "stream",
     "text": [
      "<class 'pandas.core.frame.DataFrame'>\n",
      "RangeIndex: 251155 entries, 0 to 251154\n",
      "Data columns (total 9 columns):\n",
      " #   Column                 Non-Null Count   Dtype  \n",
      "---  ------                 --------------   -----  \n",
      " 0   origin_latitude        251155 non-null  float64\n",
      " 1   origin_longitude       251155 non-null  float64\n",
      " 2   destination_latitude   251155 non-null  float64\n",
      " 3   destination_longitude  251155 non-null  float64\n",
      " 4   weight                 251155 non-null  float64\n",
      " 5   loading_meters         251155 non-null  float64\n",
      " 6   is_adr                 251155 non-null  bool   \n",
      " 7   shipping_date          251155 non-null  object \n",
      " 8   cost                   251155 non-null  float64\n",
      "dtypes: bool(1), float64(7), object(1)\n",
      "memory usage: 15.6+ MB\n"
     ]
    }
   ],
   "source": [
    "train.info()"
   ]
  },
  {
   "cell_type": "code",
   "execution_count": 7,
   "metadata": {},
   "outputs": [
    {
     "data": {
      "text/plain": [
       "True    251155\n",
       "Name: is_adr, dtype: int64"
      ]
     },
     "execution_count": 7,
     "metadata": {},
     "output_type": "execute_result"
    }
   ],
   "source": [
    "train.is_adr.value_counts()"
   ]
  },
  {
   "cell_type": "code",
   "execution_count": 8,
   "metadata": {},
   "outputs": [
    {
     "data": {
      "text/plain": [
       "0.195    191700\n",
       "0.000     17209\n",
       "0.066      1988\n",
       "0.172      1715\n",
       "0.215      1665\n",
       "          ...  \n",
       "0.296         1\n",
       "0.830         1\n",
       "0.338         1\n",
       "0.352         1\n",
       "0.329         1\n",
       "Name: loading_meters, Length: 310, dtype: int64"
      ]
     },
     "execution_count": 8,
     "metadata": {},
     "output_type": "execute_result"
    }
   ],
   "source": [
    "train.loading_meters.value_counts()"
   ]
  },
  {
   "cell_type": "code",
   "execution_count": 9,
   "metadata": {},
   "outputs": [],
   "source": [
    "train.is_adr.replace(['True'], [1], inplace=True)\n",
    "\n",
    "#train['is_adr'] = train['is_adr'].map({\"True\":1})"
   ]
  },
  {
   "cell_type": "code",
   "execution_count": 10,
   "metadata": {},
   "outputs": [
    {
     "data": {
      "text/html": [
       "<div>\n",
       "<style scoped>\n",
       "    .dataframe tbody tr th:only-of-type {\n",
       "        vertical-align: middle;\n",
       "    }\n",
       "\n",
       "    .dataframe tbody tr th {\n",
       "        vertical-align: top;\n",
       "    }\n",
       "\n",
       "    .dataframe thead th {\n",
       "        text-align: right;\n",
       "    }\n",
       "</style>\n",
       "<table border=\"1\" class=\"dataframe\">\n",
       "  <thead>\n",
       "    <tr style=\"text-align: right;\">\n",
       "      <th></th>\n",
       "      <th>origin_latitude</th>\n",
       "      <th>origin_longitude</th>\n",
       "      <th>destination_latitude</th>\n",
       "      <th>destination_longitude</th>\n",
       "      <th>weight</th>\n",
       "      <th>loading_meters</th>\n",
       "      <th>is_adr</th>\n",
       "      <th>shipping_date</th>\n",
       "      <th>cost</th>\n",
       "    </tr>\n",
       "  </thead>\n",
       "  <tbody>\n",
       "    <tr>\n",
       "      <th>0</th>\n",
       "      <td>27.22</td>\n",
       "      <td>105.59</td>\n",
       "      <td>26.91</td>\n",
       "      <td>108.67</td>\n",
       "      <td>0.513</td>\n",
       "      <td>0.195</td>\n",
       "      <td>True</td>\n",
       "      <td>2017-04-24</td>\n",
       "      <td>0.247</td>\n",
       "    </tr>\n",
       "    <tr>\n",
       "      <th>1</th>\n",
       "      <td>25.00</td>\n",
       "      <td>109.79</td>\n",
       "      <td>25.34</td>\n",
       "      <td>108.59</td>\n",
       "      <td>0.484</td>\n",
       "      <td>0.195</td>\n",
       "      <td>True</td>\n",
       "      <td>2017-07-27</td>\n",
       "      <td>0.248</td>\n",
       "    </tr>\n",
       "    <tr>\n",
       "      <th>2</th>\n",
       "      <td>27.10</td>\n",
       "      <td>105.60</td>\n",
       "      <td>29.35</td>\n",
       "      <td>106.54</td>\n",
       "      <td>0.484</td>\n",
       "      <td>0.195</td>\n",
       "      <td>True</td>\n",
       "      <td>2017-02-03</td>\n",
       "      <td>0.276</td>\n",
       "    </tr>\n",
       "    <tr>\n",
       "      <th>3</th>\n",
       "      <td>24.72</td>\n",
       "      <td>106.25</td>\n",
       "      <td>23.43</td>\n",
       "      <td>109.78</td>\n",
       "      <td>0.504</td>\n",
       "      <td>0.195</td>\n",
       "      <td>True</td>\n",
       "      <td>2017-04-03</td>\n",
       "      <td>0.276</td>\n",
       "    </tr>\n",
       "    <tr>\n",
       "      <th>4</th>\n",
       "      <td>22.33</td>\n",
       "      <td>108.37</td>\n",
       "      <td>29.38</td>\n",
       "      <td>111.50</td>\n",
       "      <td>0.484</td>\n",
       "      <td>0.195</td>\n",
       "      <td>True</td>\n",
       "      <td>2018-11-08</td>\n",
       "      <td>0.553</td>\n",
       "    </tr>\n",
       "  </tbody>\n",
       "</table>\n",
       "</div>"
      ],
      "text/plain": [
       "   origin_latitude  origin_longitude  destination_latitude  \\\n",
       "0            27.22            105.59                 26.91   \n",
       "1            25.00            109.79                 25.34   \n",
       "2            27.10            105.60                 29.35   \n",
       "3            24.72            106.25                 23.43   \n",
       "4            22.33            108.37                 29.38   \n",
       "\n",
       "   destination_longitude  weight  loading_meters  is_adr shipping_date   cost  \n",
       "0                 108.67   0.513           0.195    True    2017-04-24  0.247  \n",
       "1                 108.59   0.484           0.195    True    2017-07-27  0.248  \n",
       "2                 106.54   0.484           0.195    True    2017-02-03  0.276  \n",
       "3                 109.78   0.504           0.195    True    2017-04-03  0.276  \n",
       "4                 111.50   0.484           0.195    True    2018-11-08  0.553  "
      ]
     },
     "execution_count": 10,
     "metadata": {},
     "output_type": "execute_result"
    }
   ],
   "source": [
    "train.head()"
   ]
  },
  {
   "cell_type": "code",
   "execution_count": 11,
   "metadata": {},
   "outputs": [
    {
     "data": {
      "text/plain": [
       "origin_latitude          0\n",
       "origin_longitude         0\n",
       "destination_latitude     0\n",
       "destination_longitude    0\n",
       "weight                   0\n",
       "loading_meters           0\n",
       "is_adr                   0\n",
       "shipping_date            0\n",
       "cost                     0\n",
       "dtype: int64"
      ]
     },
     "execution_count": 11,
     "metadata": {},
     "output_type": "execute_result"
    }
   ],
   "source": [
    "train.isnull().sum()"
   ]
  },
  {
   "cell_type": "code",
   "execution_count": 12,
   "metadata": {},
   "outputs": [],
   "source": [
    "train[\"is_adr\"] = train[\"is_adr\"].astype(int)\n"
   ]
  },
  {
   "cell_type": "code",
   "execution_count": 13,
   "metadata": {},
   "outputs": [
    {
     "data": {
      "text/html": [
       "<div>\n",
       "<style scoped>\n",
       "    .dataframe tbody tr th:only-of-type {\n",
       "        vertical-align: middle;\n",
       "    }\n",
       "\n",
       "    .dataframe tbody tr th {\n",
       "        vertical-align: top;\n",
       "    }\n",
       "\n",
       "    .dataframe thead th {\n",
       "        text-align: right;\n",
       "    }\n",
       "</style>\n",
       "<table border=\"1\" class=\"dataframe\">\n",
       "  <thead>\n",
       "    <tr style=\"text-align: right;\">\n",
       "      <th></th>\n",
       "      <th>origin_latitude</th>\n",
       "      <th>origin_longitude</th>\n",
       "      <th>destination_latitude</th>\n",
       "      <th>destination_longitude</th>\n",
       "      <th>weight</th>\n",
       "      <th>loading_meters</th>\n",
       "      <th>is_adr</th>\n",
       "      <th>shipping_date</th>\n",
       "      <th>cost</th>\n",
       "    </tr>\n",
       "  </thead>\n",
       "  <tbody>\n",
       "    <tr>\n",
       "      <th>0</th>\n",
       "      <td>27.22</td>\n",
       "      <td>105.59</td>\n",
       "      <td>26.91</td>\n",
       "      <td>108.67</td>\n",
       "      <td>0.513</td>\n",
       "      <td>0.195</td>\n",
       "      <td>1</td>\n",
       "      <td>2017-04-24</td>\n",
       "      <td>0.247</td>\n",
       "    </tr>\n",
       "    <tr>\n",
       "      <th>1</th>\n",
       "      <td>25.00</td>\n",
       "      <td>109.79</td>\n",
       "      <td>25.34</td>\n",
       "      <td>108.59</td>\n",
       "      <td>0.484</td>\n",
       "      <td>0.195</td>\n",
       "      <td>1</td>\n",
       "      <td>2017-07-27</td>\n",
       "      <td>0.248</td>\n",
       "    </tr>\n",
       "    <tr>\n",
       "      <th>2</th>\n",
       "      <td>27.10</td>\n",
       "      <td>105.60</td>\n",
       "      <td>29.35</td>\n",
       "      <td>106.54</td>\n",
       "      <td>0.484</td>\n",
       "      <td>0.195</td>\n",
       "      <td>1</td>\n",
       "      <td>2017-02-03</td>\n",
       "      <td>0.276</td>\n",
       "    </tr>\n",
       "    <tr>\n",
       "      <th>3</th>\n",
       "      <td>24.72</td>\n",
       "      <td>106.25</td>\n",
       "      <td>23.43</td>\n",
       "      <td>109.78</td>\n",
       "      <td>0.504</td>\n",
       "      <td>0.195</td>\n",
       "      <td>1</td>\n",
       "      <td>2017-04-03</td>\n",
       "      <td>0.276</td>\n",
       "    </tr>\n",
       "    <tr>\n",
       "      <th>4</th>\n",
       "      <td>22.33</td>\n",
       "      <td>108.37</td>\n",
       "      <td>29.38</td>\n",
       "      <td>111.50</td>\n",
       "      <td>0.484</td>\n",
       "      <td>0.195</td>\n",
       "      <td>1</td>\n",
       "      <td>2018-11-08</td>\n",
       "      <td>0.553</td>\n",
       "    </tr>\n",
       "  </tbody>\n",
       "</table>\n",
       "</div>"
      ],
      "text/plain": [
       "   origin_latitude  origin_longitude  destination_latitude  \\\n",
       "0            27.22            105.59                 26.91   \n",
       "1            25.00            109.79                 25.34   \n",
       "2            27.10            105.60                 29.35   \n",
       "3            24.72            106.25                 23.43   \n",
       "4            22.33            108.37                 29.38   \n",
       "\n",
       "   destination_longitude  weight  loading_meters  is_adr shipping_date   cost  \n",
       "0                 108.67   0.513           0.195       1    2017-04-24  0.247  \n",
       "1                 108.59   0.484           0.195       1    2017-07-27  0.248  \n",
       "2                 106.54   0.484           0.195       1    2017-02-03  0.276  \n",
       "3                 109.78   0.504           0.195       1    2017-04-03  0.276  \n",
       "4                 111.50   0.484           0.195       1    2018-11-08  0.553  "
      ]
     },
     "execution_count": 13,
     "metadata": {},
     "output_type": "execute_result"
    }
   ],
   "source": [
    "train.head()"
   ]
  },
  {
   "cell_type": "code",
   "execution_count": 14,
   "metadata": {},
   "outputs": [
    {
     "name": "stdout",
     "output_type": "stream",
     "text": [
      "<class 'pandas.core.frame.DataFrame'>\n",
      "RangeIndex: 251155 entries, 0 to 251154\n",
      "Data columns (total 9 columns):\n",
      " #   Column                 Non-Null Count   Dtype  \n",
      "---  ------                 --------------   -----  \n",
      " 0   origin_latitude        251155 non-null  float64\n",
      " 1   origin_longitude       251155 non-null  float64\n",
      " 2   destination_latitude   251155 non-null  float64\n",
      " 3   destination_longitude  251155 non-null  float64\n",
      " 4   weight                 251155 non-null  float64\n",
      " 5   loading_meters         251155 non-null  float64\n",
      " 6   is_adr                 251155 non-null  int32  \n",
      " 7   shipping_date          251155 non-null  object \n",
      " 8   cost                   251155 non-null  float64\n",
      "dtypes: float64(7), int32(1), object(1)\n",
      "memory usage: 16.3+ MB\n"
     ]
    }
   ],
   "source": [
    "train.info()"
   ]
  },
  {
   "cell_type": "code",
   "execution_count": 17,
   "metadata": {},
   "outputs": [],
   "source": [
    "train.drop(\"shipping_date\", axis=1, inplace=True)"
   ]
  },
  {
   "cell_type": "code",
   "execution_count": 18,
   "metadata": {},
   "outputs": [
    {
     "data": {
      "text/html": [
       "<div>\n",
       "<style scoped>\n",
       "    .dataframe tbody tr th:only-of-type {\n",
       "        vertical-align: middle;\n",
       "    }\n",
       "\n",
       "    .dataframe tbody tr th {\n",
       "        vertical-align: top;\n",
       "    }\n",
       "\n",
       "    .dataframe thead th {\n",
       "        text-align: right;\n",
       "    }\n",
       "</style>\n",
       "<table border=\"1\" class=\"dataframe\">\n",
       "  <thead>\n",
       "    <tr style=\"text-align: right;\">\n",
       "      <th></th>\n",
       "      <th>origin_latitude</th>\n",
       "      <th>origin_longitude</th>\n",
       "      <th>destination_latitude</th>\n",
       "      <th>destination_longitude</th>\n",
       "      <th>weight</th>\n",
       "      <th>loading_meters</th>\n",
       "      <th>is_adr</th>\n",
       "      <th>cost</th>\n",
       "    </tr>\n",
       "  </thead>\n",
       "  <tbody>\n",
       "    <tr>\n",
       "      <th>0</th>\n",
       "      <td>27.22</td>\n",
       "      <td>105.59</td>\n",
       "      <td>26.91</td>\n",
       "      <td>108.67</td>\n",
       "      <td>0.513</td>\n",
       "      <td>0.195</td>\n",
       "      <td>1</td>\n",
       "      <td>0.247</td>\n",
       "    </tr>\n",
       "    <tr>\n",
       "      <th>1</th>\n",
       "      <td>25.00</td>\n",
       "      <td>109.79</td>\n",
       "      <td>25.34</td>\n",
       "      <td>108.59</td>\n",
       "      <td>0.484</td>\n",
       "      <td>0.195</td>\n",
       "      <td>1</td>\n",
       "      <td>0.248</td>\n",
       "    </tr>\n",
       "    <tr>\n",
       "      <th>2</th>\n",
       "      <td>27.10</td>\n",
       "      <td>105.60</td>\n",
       "      <td>29.35</td>\n",
       "      <td>106.54</td>\n",
       "      <td>0.484</td>\n",
       "      <td>0.195</td>\n",
       "      <td>1</td>\n",
       "      <td>0.276</td>\n",
       "    </tr>\n",
       "    <tr>\n",
       "      <th>3</th>\n",
       "      <td>24.72</td>\n",
       "      <td>106.25</td>\n",
       "      <td>23.43</td>\n",
       "      <td>109.78</td>\n",
       "      <td>0.504</td>\n",
       "      <td>0.195</td>\n",
       "      <td>1</td>\n",
       "      <td>0.276</td>\n",
       "    </tr>\n",
       "    <tr>\n",
       "      <th>4</th>\n",
       "      <td>22.33</td>\n",
       "      <td>108.37</td>\n",
       "      <td>29.38</td>\n",
       "      <td>111.50</td>\n",
       "      <td>0.484</td>\n",
       "      <td>0.195</td>\n",
       "      <td>1</td>\n",
       "      <td>0.553</td>\n",
       "    </tr>\n",
       "  </tbody>\n",
       "</table>\n",
       "</div>"
      ],
      "text/plain": [
       "   origin_latitude  origin_longitude  destination_latitude  \\\n",
       "0            27.22            105.59                 26.91   \n",
       "1            25.00            109.79                 25.34   \n",
       "2            27.10            105.60                 29.35   \n",
       "3            24.72            106.25                 23.43   \n",
       "4            22.33            108.37                 29.38   \n",
       "\n",
       "   destination_longitude  weight  loading_meters  is_adr   cost  \n",
       "0                 108.67   0.513           0.195       1  0.247  \n",
       "1                 108.59   0.484           0.195       1  0.248  \n",
       "2                 106.54   0.484           0.195       1  0.276  \n",
       "3                 109.78   0.504           0.195       1  0.276  \n",
       "4                 111.50   0.484           0.195       1  0.553  "
      ]
     },
     "execution_count": 18,
     "metadata": {},
     "output_type": "execute_result"
    }
   ],
   "source": [
    "train.head()"
   ]
  },
  {
   "cell_type": "code",
   "execution_count": 19,
   "metadata": {},
   "outputs": [],
   "source": [
    "import numpy as np\n",
    "import seaborn as sns\n",
    "import matplotlib.pyplot as plt"
   ]
  },
  {
   "cell_type": "code",
   "execution_count": 20,
   "metadata": {},
   "outputs": [
    {
     "data": {
      "text/plain": [
       "<Figure size 1152x432 with 0 Axes>"
      ]
     },
     "execution_count": 20,
     "metadata": {},
     "output_type": "execute_result"
    },
    {
     "data": {
      "text/plain": [
       "<Figure size 1152x432 with 0 Axes>"
      ]
     },
     "metadata": {},
     "output_type": "display_data"
    }
   ],
   "source": [
    "plt.figure(figsize=(16, 6))"
   ]
  },
  {
   "cell_type": "code",
   "execution_count": 22,
   "metadata": {},
   "outputs": [
    {
     "data": {
      "image/png": "[encoded data removed]",
      "text/plain": [
       "<Figure size 1152x432 with 2 Axes>"
      ]
     },
     "metadata": {
      "needs_background": "light"
     },
     "output_type": "display_data"
    }
   ],
   "source": [
    "plt.figure(figsize=(16, 6))\n",
    "heatmap = sns.heatmap(train.corr(), vmin=-1, vmax=1, annot=True)\n",
    "heatmap.set_title('Correlation Heatmap', fontdict={'fontsize':12}, pad=12);"
   ]
  },
  {
   "cell_type": "code",
   "execution_count": 24,
   "metadata": {},
   "outputs": [],
   "source": [
    "test = pd.read_csv(\"test_data.csv\",sep=\";\")"
   ]
  },
  {
   "cell_type": "code",
   "execution_count": 25,
   "metadata": {},
   "outputs": [
    {
     "data": {
      "text/html": [
       "<div>\n",
       "<style scoped>\n",
       "    .dataframe tbody tr th:only-of-type {\n",
       "        vertical-align: middle;\n",
       "    }\n",
       "\n",
       "    .dataframe tbody tr th {\n",
       "        vertical-align: top;\n",
       "    }\n",
       "\n",
       "    .dataframe thead th {\n",
       "        text-align: right;\n",
       "    }\n",
       "</style>\n",
       "<table border=\"1\" class=\"dataframe\">\n",
       "  <thead>\n",
       "    <tr style=\"text-align: right;\">\n",
       "      <th></th>\n",
       "      <th>origin_latitude</th>\n",
       "      <th>origin_longitude</th>\n",
       "      <th>destination_latitude</th>\n",
       "      <th>destination_longitude</th>\n",
       "      <th>weight</th>\n",
       "      <th>loading_meters</th>\n",
       "      <th>is_adr</th>\n",
       "      <th>shipping_date</th>\n",
       "    </tr>\n",
       "  </thead>\n",
       "  <tbody>\n",
       "    <tr>\n",
       "      <th>0</th>\n",
       "      <td>25.33</td>\n",
       "      <td>110.99</td>\n",
       "      <td>22.66</td>\n",
       "      <td>109.60</td>\n",
       "      <td>0.205</td>\n",
       "      <td>0.195</td>\n",
       "      <td>True</td>\n",
       "      <td>2017-01-02</td>\n",
       "    </tr>\n",
       "    <tr>\n",
       "      <th>1</th>\n",
       "      <td>26.06</td>\n",
       "      <td>106.17</td>\n",
       "      <td>24.87</td>\n",
       "      <td>111.16</td>\n",
       "      <td>0.155</td>\n",
       "      <td>0.195</td>\n",
       "      <td>True</td>\n",
       "      <td>2017-01-02</td>\n",
       "    </tr>\n",
       "    <tr>\n",
       "      <th>2</th>\n",
       "      <td>24.71</td>\n",
       "      <td>107.21</td>\n",
       "      <td>23.42</td>\n",
       "      <td>106.87</td>\n",
       "      <td>0.484</td>\n",
       "      <td>0.195</td>\n",
       "      <td>True</td>\n",
       "      <td>2017-01-02</td>\n",
       "    </tr>\n",
       "    <tr>\n",
       "      <th>3</th>\n",
       "      <td>25.76</td>\n",
       "      <td>109.61</td>\n",
       "      <td>23.20</td>\n",
       "      <td>107.02</td>\n",
       "      <td>0.445</td>\n",
       "      <td>0.069</td>\n",
       "      <td>True</td>\n",
       "      <td>2017-01-02</td>\n",
       "    </tr>\n",
       "    <tr>\n",
       "      <th>4</th>\n",
       "      <td>26.91</td>\n",
       "      <td>108.67</td>\n",
       "      <td>23.26</td>\n",
       "      <td>109.42</td>\n",
       "      <td>0.497</td>\n",
       "      <td>0.067</td>\n",
       "      <td>True</td>\n",
       "      <td>2017-01-02</td>\n",
       "    </tr>\n",
       "  </tbody>\n",
       "</table>\n",
       "</div>"
      ],
      "text/plain": [
       "   origin_latitude  origin_longitude  destination_latitude  \\\n",
       "0            25.33            110.99                 22.66   \n",
       "1            26.06            106.17                 24.87   \n",
       "2            24.71            107.21                 23.42   \n",
       "3            25.76            109.61                 23.20   \n",
       "4            26.91            108.67                 23.26   \n",
       "\n",
       "   destination_longitude  weight  loading_meters  is_adr shipping_date  \n",
       "0                 109.60   0.205           0.195    True    2017-01-02  \n",
       "1                 111.16   0.155           0.195    True    2017-01-02  \n",
       "2                 106.87   0.484           0.195    True    2017-01-02  \n",
       "3                 107.02   0.445           0.069    True    2017-01-02  \n",
       "4                 109.42   0.497           0.067    True    2017-01-02  "
      ]
     },
     "execution_count": 25,
     "metadata": {},
     "output_type": "execute_result"
    }
   ],
   "source": [
    "test.head()"
   ]
  },
  {
   "cell_type": "code",
   "execution_count": 26,
   "metadata": {},
   "outputs": [],
   "source": [
    "test[\"is_adr\"] = test[\"is_adr\"].astype(int)\n",
    "test.drop(\"shipping_date\", axis=1, inplace=True)"
   ]
  },
  {
   "cell_type": "code",
   "execution_count": 27,
   "metadata": {},
   "outputs": [
    {
     "data": {
      "text/html": [
       "<div>\n",
       "<style scoped>\n",
       "    .dataframe tbody tr th:only-of-type {\n",
       "        vertical-align: middle;\n",
       "    }\n",
       "\n",
       "    .dataframe tbody tr th {\n",
       "        vertical-align: top;\n",
       "    }\n",
       "\n",
       "    .dataframe thead th {\n",
       "        text-align: right;\n",
       "    }\n",
       "</style>\n",
       "<table border=\"1\" class=\"dataframe\">\n",
       "  <thead>\n",
       "    <tr style=\"text-align: right;\">\n",
       "      <th></th>\n",
       "      <th>origin_latitude</th>\n",
       "      <th>origin_longitude</th>\n",
       "      <th>destination_latitude</th>\n",
       "      <th>destination_longitude</th>\n",
       "      <th>weight</th>\n",
       "      <th>loading_meters</th>\n",
       "      <th>is_adr</th>\n",
       "    </tr>\n",
       "  </thead>\n",
       "  <tbody>\n",
       "    <tr>\n",
       "      <th>0</th>\n",
       "      <td>25.33</td>\n",
       "      <td>110.99</td>\n",
       "      <td>22.66</td>\n",
       "      <td>109.60</td>\n",
       "      <td>0.205</td>\n",
       "      <td>0.195</td>\n",
       "      <td>1</td>\n",
       "    </tr>\n",
       "    <tr>\n",
       "      <th>1</th>\n",
       "      <td>26.06</td>\n",
       "      <td>106.17</td>\n",
       "      <td>24.87</td>\n",
       "      <td>111.16</td>\n",
       "      <td>0.155</td>\n",
       "      <td>0.195</td>\n",
       "      <td>1</td>\n",
       "    </tr>\n",
       "    <tr>\n",
       "      <th>2</th>\n",
       "      <td>24.71</td>\n",
       "      <td>107.21</td>\n",
       "      <td>23.42</td>\n",
       "      <td>106.87</td>\n",
       "      <td>0.484</td>\n",
       "      <td>0.195</td>\n",
       "      <td>1</td>\n",
       "    </tr>\n",
       "    <tr>\n",
       "      <th>3</th>\n",
       "      <td>25.76</td>\n",
       "      <td>109.61</td>\n",
       "      <td>23.20</td>\n",
       "      <td>107.02</td>\n",
       "      <td>0.445</td>\n",
       "      <td>0.069</td>\n",
       "      <td>1</td>\n",
       "    </tr>\n",
       "    <tr>\n",
       "      <th>4</th>\n",
       "      <td>26.91</td>\n",
       "      <td>108.67</td>\n",
       "      <td>23.26</td>\n",
       "      <td>109.42</td>\n",
       "      <td>0.497</td>\n",
       "      <td>0.067</td>\n",
       "      <td>1</td>\n",
       "    </tr>\n",
       "  </tbody>\n",
       "</table>\n",
       "</div>"
      ],
      "text/plain": [
       "   origin_latitude  origin_longitude  destination_latitude  \\\n",
       "0            25.33            110.99                 22.66   \n",
       "1            26.06            106.17                 24.87   \n",
       "2            24.71            107.21                 23.42   \n",
       "3            25.76            109.61                 23.20   \n",
       "4            26.91            108.67                 23.26   \n",
       "\n",
       "   destination_longitude  weight  loading_meters  is_adr  \n",
       "0                 109.60   0.205           0.195       1  \n",
       "1                 111.16   0.155           0.195       1  \n",
       "2                 106.87   0.484           0.195       1  \n",
       "3                 107.02   0.445           0.069       1  \n",
       "4                 109.42   0.497           0.067       1  "
      ]
     },
     "execution_count": 27,
     "metadata": {},
     "output_type": "execute_result"
    }
   ],
   "source": [
    "test.head()"
   ]
  },
  {
   "cell_type": "code",
   "execution_count": 28,
   "metadata": {},
   "outputs": [
    {
     "name": "stdout",
     "output_type": "stream",
     "text": [
      "<class 'pandas.core.frame.DataFrame'>\n",
      "RangeIndex: 62789 entries, 0 to 62788\n",
      "Data columns (total 7 columns):\n",
      " #   Column                 Non-Null Count  Dtype  \n",
      "---  ------                 --------------  -----  \n",
      " 0   origin_latitude        62789 non-null  float64\n",
      " 1   origin_longitude       62789 non-null  float64\n",
      " 2   destination_latitude   62789 non-null  float64\n",
      " 3   destination_longitude  62789 non-null  float64\n",
      " 4   weight                 62789 non-null  float64\n",
      " 5   loading_meters         62789 non-null  float64\n",
      " 6   is_adr                 62789 non-null  int32  \n",
      "dtypes: float64(6), int32(1)\n",
      "memory usage: 3.1 MB\n"
     ]
    }
   ],
   "source": [
    "test.info()"
   ]
  },
  {
   "cell_type": "code",
   "execution_count": 30,
   "metadata": {},
   "outputs": [],
   "source": [
    "X_train = train.iloc[:,:-1]"
   ]
  },
  {
   "cell_type": "code",
   "execution_count": 31,
   "metadata": {},
   "outputs": [
    {
     "data": {
      "text/html": [
       "<div>\n",
       "<style scoped>\n",
       "    .dataframe tbody tr th:only-of-type {\n",
       "        vertical-align: middle;\n",
       "    }\n",
       "\n",
       "    .dataframe tbody tr th {\n",
       "        vertical-align: top;\n",
       "    }\n",
       "\n",
       "    .dataframe thead th {\n",
       "        text-align: right;\n",
       "    }\n",
       "</style>\n",
       "<table border=\"1\" class=\"dataframe\">\n",
       "  <thead>\n",
       "    <tr style=\"text-align: right;\">\n",
       "      <th></th>\n",
       "      <th>origin_latitude</th>\n",
       "      <th>origin_longitude</th>\n",
       "      <th>destination_latitude</th>\n",
       "      <th>destination_longitude</th>\n",
       "      <th>weight</th>\n",
       "      <th>loading_meters</th>\n",
       "      <th>is_adr</th>\n",
       "    </tr>\n",
       "  </thead>\n",
       "  <tbody>\n",
       "    <tr>\n",
       "      <th>0</th>\n",
       "      <td>27.22</td>\n",
       "      <td>105.59</td>\n",
       "      <td>26.91</td>\n",
       "      <td>108.67</td>\n",
       "      <td>0.513</td>\n",
       "      <td>0.195</td>\n",
       "      <td>1</td>\n",
       "    </tr>\n",
       "    <tr>\n",
       "      <th>1</th>\n",
       "      <td>25.00</td>\n",
       "      <td>109.79</td>\n",
       "      <td>25.34</td>\n",
       "      <td>108.59</td>\n",
       "      <td>0.484</td>\n",
       "      <td>0.195</td>\n",
       "      <td>1</td>\n",
       "    </tr>\n",
       "    <tr>\n",
       "      <th>2</th>\n",
       "      <td>27.10</td>\n",
       "      <td>105.60</td>\n",
       "      <td>29.35</td>\n",
       "      <td>106.54</td>\n",
       "      <td>0.484</td>\n",
       "      <td>0.195</td>\n",
       "      <td>1</td>\n",
       "    </tr>\n",
       "    <tr>\n",
       "      <th>3</th>\n",
       "      <td>24.72</td>\n",
       "      <td>106.25</td>\n",
       "      <td>23.43</td>\n",
       "      <td>109.78</td>\n",
       "      <td>0.504</td>\n",
       "      <td>0.195</td>\n",
       "      <td>1</td>\n",
       "    </tr>\n",
       "    <tr>\n",
       "      <th>4</th>\n",
       "      <td>22.33</td>\n",
       "      <td>108.37</td>\n",
       "      <td>29.38</td>\n",
       "      <td>111.50</td>\n",
       "      <td>0.484</td>\n",
       "      <td>0.195</td>\n",
       "      <td>1</td>\n",
       "    </tr>\n",
       "  </tbody>\n",
       "</table>\n",
       "</div>"
      ],
      "text/plain": [
       "   origin_latitude  origin_longitude  destination_latitude  \\\n",
       "0            27.22            105.59                 26.91   \n",
       "1            25.00            109.79                 25.34   \n",
       "2            27.10            105.60                 29.35   \n",
       "3            24.72            106.25                 23.43   \n",
       "4            22.33            108.37                 29.38   \n",
       "\n",
       "   destination_longitude  weight  loading_meters  is_adr  \n",
       "0                 108.67   0.513           0.195       1  \n",
       "1                 108.59   0.484           0.195       1  \n",
       "2                 106.54   0.484           0.195       1  \n",
       "3                 109.78   0.504           0.195       1  \n",
       "4                 111.50   0.484           0.195       1  "
      ]
     },
     "execution_count": 31,
     "metadata": {},
     "output_type": "execute_result"
    }
   ],
   "source": [
    "X_train.head()"
   ]
  },
  {
   "cell_type": "code",
   "execution_count": 34,
   "metadata": {},
   "outputs": [],
   "source": [
    "Y_train = train.iloc[:,-1]"
   ]
  },
  {
   "cell_type": "code",
   "execution_count": 38,
   "metadata": {},
   "outputs": [
    {
     "data": {
      "text/plain": [
       "((251155,), (251155, 7))"
      ]
     },
     "execution_count": 38,
     "metadata": {},
     "output_type": "execute_result"
    }
   ],
   "source": [
    "Y_train.shape, X_train.shape"
   ]
  },
  {
   "cell_type": "code",
   "execution_count": 39,
   "metadata": {},
   "outputs": [
    {
     "data": {
      "text/plain": [
       "XGBRegressor(base_score=0.5, booster='gbtree', colsample_bylevel=1,\n",
       "             colsample_bynode=1, colsample_bytree=1, gamma=0, gpu_id=-1,\n",
       "             importance_type='gain', interaction_constraints='',\n",
       "             learning_rate=0.300000012, max_delta_step=0, max_depth=6,\n",
       "             min_child_weight=1, missing=nan, monotone_constraints='()',\n",
       "             n_estimators=100, n_jobs=8, num_parallel_tree=1, random_state=0,\n",
       "             reg_alpha=0, reg_lambda=1, scale_pos_weight=1, subsample=1,\n",
       "             tree_method='exact', validate_parameters=1, verbosity=None)"
      ]
     },
     "execution_count": 39,
     "metadata": {},
     "output_type": "execute_result"
    }
   ],
   "source": [
    "import xgboost\n",
    "reg = xgboost.XGBRegressor()\n",
    "reg.fit(X_train,Y_train)"
   ]
  },
  {
   "cell_type": "code",
   "execution_count": 40,
   "metadata": {},
   "outputs": [],
   "source": [
    "y_predict = reg.predict(test)"
   ]
  },
  {
   "cell_type": "code",
   "execution_count": 42,
   "metadata": {},
   "outputs": [
    {
     "data": {
      "text/plain": [
       "62789"
      ]
     },
     "execution_count": 42,
     "metadata": {},
     "output_type": "execute_result"
    }
   ],
   "source": [
    "len(y_predict)"
   ]
  },
  {
   "cell_type": "code",
   "execution_count": 43,
   "metadata": {},
   "outputs": [],
   "source": [
    "Y_groundtruth = pd.read_csv(\"example_cost_predictions.csv\")"
   ]
  },
  {
   "cell_type": "code",
   "execution_count": 45,
   "metadata": {},
   "outputs": [],
   "source": [
    "from sklearn.metrics import mean_squared_error\n",
    "from sklearn.metrics import mean_absolute_error\n"
   ]
  },
  {
   "cell_type": "code",
   "execution_count": 47,
   "metadata": {},
   "outputs": [],
   "source": [
    "errors_1 = mean_squared_error(Y_groundtruth, y_predict)\n",
    "errors_2 = mean_absolute_error(Y_groundtruth, y_predict)"
   ]
  },
  {
   "cell_type": "code",
   "execution_count": 48,
   "metadata": {},
   "outputs": [
    {
     "data": {
      "text/plain": [
       "0.027138111568753617"
      ]
     },
     "execution_count": 48,
     "metadata": {},
     "output_type": "execute_result"
    }
   ],
   "source": [
    "errors_1"
   ]
  },
  {
   "cell_type": "code",
   "execution_count": 49,
   "metadata": {},
   "outputs": [
    {
     "data": {
      "text/plain": [
       "0.12879428490973394"
      ]
     },
     "execution_count": 49,
     "metadata": {},
     "output_type": "execute_result"
    }
   ],
   "source": [
    "errors_2"
   ]
  },
  {
   "cell_type": "code",
   "execution_count": 50,
   "metadata": {},
   "outputs": [
    {
     "name": "stdout",
     "output_type": "stream",
     "text": [
      "RMSE 0.1647364913088585\n"
     ]
    }
   ],
   "source": [
    "print(\"RMSE\",np.sqrt(mean_squared_error(Y_groundtruth, y_predict)))\n"
   ]
  },
  {
   "cell_type": "code",
   "execution_count": 52,
   "metadata": {},
   "outputs": [
    {
     "name": "stdout",
     "output_type": "stream",
     "text": [
      "RMSE -1.80340810405169\n"
     ]
    }
   ],
   "source": [
    "print(\"RMSE\",np.log(np.sqrt(mean_squared_error(Y_groundtruth, y_predict))))"
   ]
  },
  {
   "cell_type": "code",
   "execution_count": 53,
   "metadata": {},
   "outputs": [
    {
     "name": "stdout",
     "output_type": "stream",
     "text": [
      "-0.9910802783506001\n"
     ]
    }
   ],
   "source": [
    "from sklearn.metrics import r2_score\n",
    "r2 = r2_score(Y_groundtruth, y_predict)\n",
    "print(r2)"
   ]
  },
  {
   "cell_type": "code",
   "execution_count": 54,
   "metadata": {},
   "outputs": [],
   "source": [
    "from sklearn.model_selection import GridSearchCV\n"
   ]
  },
  {
   "cell_type": "code",
   "execution_count": 59,
   "metadata": {},
   "outputs": [],
   "source": [
    "\n",
    "from xgboost.sklearn import XGBRegressor\n",
    "xgb1 = XGBRegressor()\n",
    "parameters = {'nthread':[4], #when use hyperthread, xgboost may become slower\n",
    "              'objective':['reg:linear'],\n",
    "              'learning_rate': [.03, 0.05, .07], #so called `eta` value\n",
    "              'max_depth': [5, 6, 7],\n",
    "              'min_child_weight': [4],\n",
    "              'silent': [1],\n",
    "              'subsample': [0.7],\n",
    "              'colsample_bytree': [0.7],\n",
    "              'n_estimators': [500]}"
   ]
  },
  {
   "cell_type": "code",
   "execution_count": 60,
   "metadata": {},
   "outputs": [],
   "source": [
    "xgb_grid = GridSearchCV(xgb1,\n",
    "                        parameters,\n",
    "                        cv = 2,\n",
    "                        n_jobs = 5,\n",
    "                        verbose=True)\n"
   ]
  },
  {
   "cell_type": "code",
   "execution_count": 61,
   "metadata": {},
   "outputs": [
    {
     "name": "stdout",
     "output_type": "stream",
     "text": [
      "Fitting 2 folds for each of 9 candidates, totalling 18 fits\n",
      "[09:00:42] WARNING: C:/Users/Administrator/workspace/xgboost-win64_release_1.4.0/src/objective/regression_obj.cu:171: reg:linear is now deprecated in favor of reg:squarederror.\n",
      "[09:00:42] WARNING: C:/Users/Administrator/workspace/xgboost-win64_release_1.4.0/src/learner.cc:573: \n",
      "Parameters: { \"silent\" } might not be used.\n",
      "\n",
      "  This may not be accurate due to some parameters are only used in language bindings but\n",
      "  passed down to XGBoost core.  Or some parameters are not used but slip through this\n",
      "  verification. Please open an issue if you find above cases.\n",
      "\n",
      "\n"
     ]
    },
    {
     "data": {
      "text/plain": [
       "GridSearchCV(cv=2,\n",
       "             estimator=XGBRegressor(base_score=None, booster=None,\n",
       "                                    colsample_bylevel=None,\n",
       "                                    colsample_bynode=None,\n",
       "                                    colsample_bytree=None, gamma=None,\n",
       "                                    gpu_id=None, importance_type='gain',\n",
       "                                    interaction_constraints=None,\n",
       "                                    learning_rate=None, max_delta_step=None,\n",
       "                                    max_depth=None, min_child_weight=None,\n",
       "                                    missing=nan, monotone_constraints=None,\n",
       "                                    n_estimators=100, n_jobs=...\n",
       "                                    reg_alpha=None, reg_lambda=None,\n",
       "                                    scale_pos_weight=None, subsample=None,\n",
       "                                    tree_method=None, validate_parameters=None,\n",
       "                                    verbosity=None),\n",
       "             n_jobs=5,\n",
       "             param_grid={'colsample_bytree': [0.7],\n",
       "                         'learning_rate': [0.03, 0.05, 0.07],\n",
       "                         'max_depth': [5, 6, 7], 'min_child_weight': [4],\n",
       "                         'n_estimators': [500], 'nthread': [4],\n",
       "                         'objective': ['reg:linear'], 'silent': [1],\n",
       "                         'subsample': [0.7]},\n",
       "             verbose=True)"
      ]
     },
     "execution_count": 61,
     "metadata": {},
     "output_type": "execute_result"
    }
   ],
   "source": [
    "xgb_grid.fit(X_train,Y_train)"
   ]
  },
  {
   "cell_type": "code",
   "execution_count": 62,
   "metadata": {},
   "outputs": [
    {
     "name": "stdout",
     "output_type": "stream",
     "text": [
      "0.8191381524693737\n",
      "{'colsample_bytree': 0.7, 'learning_rate': 0.07, 'max_depth': 7, 'min_child_weight': 4, 'n_estimators': 500, 'nthread': 4, 'objective': 'reg:linear', 'silent': 1, 'subsample': 0.7}\n"
     ]
    }
   ],
   "source": [
    "print(xgb_grid.best_score_)\n",
    "print(xgb_grid.best_params_)"
   ]
  },
  {
   "cell_type": "code",
   "execution_count": 69,
   "metadata": {},
   "outputs": [],
   "source": [
    "reg_1 = xgboost.XGBRegressor(colsample_bytree= 0.7, learning_rate= 0.07, max_depth = 7, min_child_weight=4, n_estimator=500, nthread=4, objective ='reg:linear', silent=1, subsample=0.7)\n"
   ]
  },
  {
   "cell_type": "code",
   "execution_count": 70,
   "metadata": {},
   "outputs": [
    {
     "name": "stdout",
     "output_type": "stream",
     "text": [
      "[09:31:29] WARNING: C:/Users/Administrator/workspace/xgboost-win64_release_1.4.0/src/objective/regression_obj.cu:171: reg:linear is now deprecated in favor of reg:squarederror.\n",
      "[09:31:29] WARNING: C:/Users/Administrator/workspace/xgboost-win64_release_1.4.0/src/learner.cc:573: \n",
      "Parameters: { \"n_estimator\", \"silent\" } might not be used.\n",
      "\n",
      "  This may not be accurate due to some parameters are only used in language bindings but\n",
      "  passed down to XGBoost core.  Or some parameters are not used but slip through this\n",
      "  verification. Please open an issue if you find above cases.\n",
      "\n",
      "\n"
     ]
    },
    {
     "data": {
      "text/plain": [
       "XGBRegressor(base_score=0.5, booster='gbtree', colsample_bylevel=1,\n",
       "             colsample_bynode=1, colsample_bytree=0.7, gamma=0, gpu_id=-1,\n",
       "             importance_type='gain', interaction_constraints='',\n",
       "             learning_rate=0.07, max_delta_step=0, max_depth=7,\n",
       "             min_child_weight=4, missing=nan, monotone_constraints='()',\n",
       "             n_estimator=500, n_estimators=100, n_jobs=4, nthread=4,\n",
       "             num_parallel_tree=1, objective='reg:linear', random_state=0,\n",
       "             reg_alpha=0, reg_lambda=1, scale_pos_weight=1, silent=1,\n",
       "             subsample=0.7, tree_method='exact', validate_parameters=1,\n",
       "             verbosity=None)"
      ]
     },
     "execution_count": 70,
     "metadata": {},
     "output_type": "execute_result"
    }
   ],
   "source": [
    "reg_1.fit(X_train,Y_train)"
   ]
  },
  {
   "cell_type": "code",
   "execution_count": 71,
   "metadata": {},
   "outputs": [],
   "source": [
    "y_predict_1 = reg_1.predict(test)"
   ]
  },
  {
   "cell_type": "code",
   "execution_count": 75,
   "metadata": {},
   "outputs": [
    {
     "name": "stdout",
     "output_type": "stream",
     "text": [
      "0.024852478133505548\n"
     ]
    }
   ],
   "source": [
    "errors_11 = mean_squared_error(Y_groundtruth, y_predict_1)\n",
    "print(errors_11)"
   ]
  },
  {
   "cell_type": "code",
   "execution_count": 76,
   "metadata": {},
   "outputs": [
    {
     "name": "stdout",
     "output_type": "stream",
     "text": [
      "0.12305747666553128\n"
     ]
    }
   ],
   "source": [
    "errors_22 = mean_absolute_error(Y_groundtruth, y_predict_1)\n",
    "print(errors_22)"
   ]
  },
  {
   "cell_type": "code",
   "execution_count": 74,
   "metadata": {},
   "outputs": [
    {
     "name": "stdout",
     "output_type": "stream",
     "text": [
      "RMSE_new -1.80340810405169\n"
     ]
    }
   ],
   "source": [
    "print(\"RMSE_new\",np.log(np.sqrt(mean_squared_error(Y_groundtruth, y_predict))))"
   ]
  },
  {
   "cell_type": "code",
   "execution_count": 77,
   "metadata": {},
   "outputs": [
    {
     "data": {
      "text/plain": [
       "7"
      ]
     },
     "execution_count": 77,
     "metadata": {},
     "output_type": "execute_result"
    }
   ],
   "source": [
    "X_train.shape[1]"
   ]
  },
  {
   "cell_type": "code",
   "execution_count": 78,
   "metadata": {},
   "outputs": [
    {
     "data": {
      "text/plain": [
       "7"
      ]
     },
     "execution_count": 78,
     "metadata": {},
     "output_type": "execute_result"
    }
   ],
   "source": [
    "X_train.shape[-1]"
   ]
  },
  {
   "cell_type": "code",
   "execution_count": 80,
   "metadata": {},
   "outputs": [
    {
     "data": {
      "text/plain": [
       "<AxesSubplot:xlabel='cost'>"
      ]
     },
     "execution_count": 80,
     "metadata": {},
     "output_type": "execute_result"
    },
    {
     "data": {
      "image/png": "[encoded data removed]",
      "text/plain": [
       "<Figure size 1440x720 with 1 Axes>"
      ]
     },
     "metadata": {
      "needs_background": "light"
     },
     "output_type": "display_data"
    }
   ],
   "source": [
    "train.plot(x='cost', y=\"weight\", figsize=(20,10), grid=True)\n"
   ]
  },
  {
   "cell_type": "code",
   "execution_count": 82,
   "metadata": {},
   "outputs": [
    {
     "data": {
      "text/plain": [
       "-0.05161254894126851"
      ]
     },
     "execution_count": 82,
     "metadata": {},
     "output_type": "execute_result"
    }
   ],
   "source": [
    "train['cost'].corr(train['weight'])\n"
   ]
  },
  {
   "cell_type": "code",
   "execution_count": null,
   "metadata": {},
   "outputs": [],
   "source": []
  }
 ],
 "metadata": {
  "kernelspec": {
   "display_name": "Python 3",
   "language": "python",
   "name": "python3"
  },
  "language_info": {
   "codemirror_mode": {
    "name": "ipython",
    "version": 3
   },
   "file_extension": ".py",
   "mimetype": "text/x-python",
   "name": "python",
   "nbconvert_exporter": "python",
   "pygments_lexer": "ipython3",
   "version": "3.7.3"
  }
 },
 "nbformat": 4,
 "nbformat_minor": 2
}
