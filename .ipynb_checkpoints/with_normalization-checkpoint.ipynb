{
 "cells": [
  {
   "cell_type": "code",
   "execution_count": 1,
   "metadata": {},
   "outputs": [
    {
     "data": {
      "text/html": [
       "<div>\n",
       "<style scoped>\n",
       "    .dataframe tbody tr th:only-of-type {\n",
       "        vertical-align: middle;\n",
       "    }\n",
       "\n",
       "    .dataframe tbody tr th {\n",
       "        vertical-align: top;\n",
       "    }\n",
       "\n",
       "    .dataframe thead th {\n",
       "        text-align: right;\n",
       "    }\n",
       "</style>\n",
       "<table border=\"1\" class=\"dataframe\">\n",
       "  <thead>\n",
       "    <tr style=\"text-align: right;\">\n",
       "      <th></th>\n",
       "      <th>origin_latitude</th>\n",
       "      <th>origin_longitude</th>\n",
       "      <th>destination_latitude</th>\n",
       "      <th>destination_longitude</th>\n",
       "      <th>weight</th>\n",
       "      <th>loading_meters</th>\n",
       "      <th>is_adr</th>\n",
       "      <th>shipping_date</th>\n",
       "      <th>cost</th>\n",
       "    </tr>\n",
       "  </thead>\n",
       "  <tbody>\n",
       "    <tr>\n",
       "      <th>0</th>\n",
       "      <td>27.22</td>\n",
       "      <td>105.59</td>\n",
       "      <td>26.91</td>\n",
       "      <td>108.67</td>\n",
       "      <td>0.513</td>\n",
       "      <td>0.195</td>\n",
       "      <td>True</td>\n",
       "      <td>2017-04-24</td>\n",
       "      <td>0.247</td>\n",
       "    </tr>\n",
       "    <tr>\n",
       "      <th>1</th>\n",
       "      <td>25.00</td>\n",
       "      <td>109.79</td>\n",
       "      <td>25.34</td>\n",
       "      <td>108.59</td>\n",
       "      <td>0.484</td>\n",
       "      <td>0.195</td>\n",
       "      <td>True</td>\n",
       "      <td>2017-07-27</td>\n",
       "      <td>0.248</td>\n",
       "    </tr>\n",
       "    <tr>\n",
       "      <th>2</th>\n",
       "      <td>27.10</td>\n",
       "      <td>105.60</td>\n",
       "      <td>29.35</td>\n",
       "      <td>106.54</td>\n",
       "      <td>0.484</td>\n",
       "      <td>0.195</td>\n",
       "      <td>True</td>\n",
       "      <td>2017-02-03</td>\n",
       "      <td>0.276</td>\n",
       "    </tr>\n",
       "    <tr>\n",
       "      <th>3</th>\n",
       "      <td>24.72</td>\n",
       "      <td>106.25</td>\n",
       "      <td>23.43</td>\n",
       "      <td>109.78</td>\n",
       "      <td>0.504</td>\n",
       "      <td>0.195</td>\n",
       "      <td>True</td>\n",
       "      <td>2017-04-03</td>\n",
       "      <td>0.276</td>\n",
       "    </tr>\n",
       "    <tr>\n",
       "      <th>4</th>\n",
       "      <td>22.33</td>\n",
       "      <td>108.37</td>\n",
       "      <td>29.38</td>\n",
       "      <td>111.50</td>\n",
       "      <td>0.484</td>\n",
       "      <td>0.195</td>\n",
       "      <td>True</td>\n",
       "      <td>2018-11-08</td>\n",
       "      <td>0.553</td>\n",
       "    </tr>\n",
       "  </tbody>\n",
       "</table>\n",
       "</div>"
      ],
      "text/plain": [
       "   origin_latitude  origin_longitude  destination_latitude  \\\n",
       "0            27.22            105.59                 26.91   \n",
       "1            25.00            109.79                 25.34   \n",
       "2            27.10            105.60                 29.35   \n",
       "3            24.72            106.25                 23.43   \n",
       "4            22.33            108.37                 29.38   \n",
       "\n",
       "   destination_longitude  weight  loading_meters  is_adr shipping_date   cost  \n",
       "0                 108.67   0.513           0.195    True    2017-04-24  0.247  \n",
       "1                 108.59   0.484           0.195    True    2017-07-27  0.248  \n",
       "2                 106.54   0.484           0.195    True    2017-02-03  0.276  \n",
       "3                 109.78   0.504           0.195    True    2017-04-03  0.276  \n",
       "4                 111.50   0.484           0.195    True    2018-11-08  0.553  "
      ]
     },
     "execution_count": 1,
     "metadata": {},
     "output_type": "execute_result"
    }
   ],
   "source": [
    "import pandas as pd\n",
    "train= pd.read_csv(\"train_data.csv\",sep=\";\")\n",
    "train.head(5)"
   ]
  },
  {
   "cell_type": "code",
   "execution_count": 2,
   "metadata": {},
   "outputs": [],
   "source": [
    "train.drop(\"shipping_date\",axis=1,inplace=True)"
   ]
  },
  {
   "cell_type": "code",
   "execution_count": 3,
   "metadata": {},
   "outputs": [
    {
     "data": {
      "text/html": [
       "<div>\n",
       "<style scoped>\n",
       "    .dataframe tbody tr th:only-of-type {\n",
       "        vertical-align: middle;\n",
       "    }\n",
       "\n",
       "    .dataframe tbody tr th {\n",
       "        vertical-align: top;\n",
       "    }\n",
       "\n",
       "    .dataframe thead th {\n",
       "        text-align: right;\n",
       "    }\n",
       "</style>\n",
       "<table border=\"1\" class=\"dataframe\">\n",
       "  <thead>\n",
       "    <tr style=\"text-align: right;\">\n",
       "      <th></th>\n",
       "      <th>origin_latitude</th>\n",
       "      <th>origin_longitude</th>\n",
       "      <th>destination_latitude</th>\n",
       "      <th>destination_longitude</th>\n",
       "      <th>weight</th>\n",
       "      <th>loading_meters</th>\n",
       "      <th>is_adr</th>\n",
       "      <th>cost</th>\n",
       "    </tr>\n",
       "  </thead>\n",
       "  <tbody>\n",
       "    <tr>\n",
       "      <th>0</th>\n",
       "      <td>27.22</td>\n",
       "      <td>105.59</td>\n",
       "      <td>26.91</td>\n",
       "      <td>108.67</td>\n",
       "      <td>0.513</td>\n",
       "      <td>0.195</td>\n",
       "      <td>True</td>\n",
       "      <td>0.247</td>\n",
       "    </tr>\n",
       "    <tr>\n",
       "      <th>1</th>\n",
       "      <td>25.00</td>\n",
       "      <td>109.79</td>\n",
       "      <td>25.34</td>\n",
       "      <td>108.59</td>\n",
       "      <td>0.484</td>\n",
       "      <td>0.195</td>\n",
       "      <td>True</td>\n",
       "      <td>0.248</td>\n",
       "    </tr>\n",
       "    <tr>\n",
       "      <th>2</th>\n",
       "      <td>27.10</td>\n",
       "      <td>105.60</td>\n",
       "      <td>29.35</td>\n",
       "      <td>106.54</td>\n",
       "      <td>0.484</td>\n",
       "      <td>0.195</td>\n",
       "      <td>True</td>\n",
       "      <td>0.276</td>\n",
       "    </tr>\n",
       "  </tbody>\n",
       "</table>\n",
       "</div>"
      ],
      "text/plain": [
       "   origin_latitude  origin_longitude  destination_latitude  \\\n",
       "0            27.22            105.59                 26.91   \n",
       "1            25.00            109.79                 25.34   \n",
       "2            27.10            105.60                 29.35   \n",
       "\n",
       "   destination_longitude  weight  loading_meters  is_adr   cost  \n",
       "0                 108.67   0.513           0.195    True  0.247  \n",
       "1                 108.59   0.484           0.195    True  0.248  \n",
       "2                 106.54   0.484           0.195    True  0.276  "
      ]
     },
     "execution_count": 3,
     "metadata": {},
     "output_type": "execute_result"
    }
   ],
   "source": [
    "train.head(3)"
   ]
  },
  {
   "cell_type": "code",
   "execution_count": 7,
   "metadata": {},
   "outputs": [],
   "source": [
    "new_df = pd.get_dummies(train, columns=['is_adr'])"
   ]
  },
  {
   "cell_type": "code",
   "execution_count": 8,
   "metadata": {},
   "outputs": [
    {
     "name": "stdout",
     "output_type": "stream",
     "text": [
      "<class 'pandas.core.frame.DataFrame'>\n",
      "RangeIndex: 251155 entries, 0 to 251154\n",
      "Data columns (total 8 columns):\n",
      " #   Column                 Non-Null Count   Dtype  \n",
      "---  ------                 --------------   -----  \n",
      " 0   origin_latitude        251155 non-null  float64\n",
      " 1   origin_longitude       251155 non-null  float64\n",
      " 2   destination_latitude   251155 non-null  float64\n",
      " 3   destination_longitude  251155 non-null  float64\n",
      " 4   weight                 251155 non-null  float64\n",
      " 5   loading_meters         251155 non-null  float64\n",
      " 6   is_adr                 251155 non-null  bool   \n",
      " 7   cost                   251155 non-null  float64\n",
      "dtypes: bool(1), float64(7)\n",
      "memory usage: 13.7 MB\n"
     ]
    }
   ],
   "source": [
    "train.info()"
   ]
  },
  {
   "cell_type": "code",
   "execution_count": 9,
   "metadata": {},
   "outputs": [
    {
     "name": "stdout",
     "output_type": "stream",
     "text": [
      "<class 'pandas.core.frame.DataFrame'>\n",
      "RangeIndex: 251155 entries, 0 to 251154\n",
      "Data columns (total 8 columns):\n",
      " #   Column                 Non-Null Count   Dtype  \n",
      "---  ------                 --------------   -----  \n",
      " 0   origin_latitude        251155 non-null  float64\n",
      " 1   origin_longitude       251155 non-null  float64\n",
      " 2   destination_latitude   251155 non-null  float64\n",
      " 3   destination_longitude  251155 non-null  float64\n",
      " 4   weight                 251155 non-null  float64\n",
      " 5   loading_meters         251155 non-null  float64\n",
      " 6   cost                   251155 non-null  float64\n",
      " 7   is_adr_True            251155 non-null  uint8  \n",
      "dtypes: float64(7), uint8(1)\n",
      "memory usage: 13.7 MB\n"
     ]
    }
   ],
   "source": [
    "new_df.info()"
   ]
  },
  {
   "cell_type": "code",
   "execution_count": 11,
   "metadata": {},
   "outputs": [],
   "source": [
    "from sklearn.preprocessing import StandardScaler\n",
    "cols_to_norm = ['origin_latitude','origin_longitude',\"destination_latitude\",\"destination_longitude\"]\n",
    "new_df[cols_to_norm] = StandardScaler().fit_transform(new_df[cols_to_norm])"
   ]
  },
  {
   "cell_type": "code",
   "execution_count": 12,
   "metadata": {},
   "outputs": [
    {
     "data": {
      "text/html": [
       "<div>\n",
       "<style scoped>\n",
       "    .dataframe tbody tr th:only-of-type {\n",
       "        vertical-align: middle;\n",
       "    }\n",
       "\n",
       "    .dataframe tbody tr th {\n",
       "        vertical-align: top;\n",
       "    }\n",
       "\n",
       "    .dataframe thead th {\n",
       "        text-align: right;\n",
       "    }\n",
       "</style>\n",
       "<table border=\"1\" class=\"dataframe\">\n",
       "  <thead>\n",
       "    <tr style=\"text-align: right;\">\n",
       "      <th></th>\n",
       "      <th>origin_latitude</th>\n",
       "      <th>origin_longitude</th>\n",
       "      <th>destination_latitude</th>\n",
       "      <th>destination_longitude</th>\n",
       "      <th>weight</th>\n",
       "      <th>loading_meters</th>\n",
       "      <th>cost</th>\n",
       "      <th>is_adr_True</th>\n",
       "    </tr>\n",
       "  </thead>\n",
       "  <tbody>\n",
       "    <tr>\n",
       "      <th>0</th>\n",
       "      <td>0.853203</td>\n",
       "      <td>-1.600259</td>\n",
       "      <td>0.668718</td>\n",
       "      <td>-0.130163</td>\n",
       "      <td>0.513</td>\n",
       "      <td>0.195</td>\n",
       "      <td>0.247</td>\n",
       "      <td>1</td>\n",
       "    </tr>\n",
       "    <tr>\n",
       "      <th>1</th>\n",
       "      <td>-0.391300</td>\n",
       "      <td>0.412666</td>\n",
       "      <td>-0.122772</td>\n",
       "      <td>-0.164978</td>\n",
       "      <td>0.484</td>\n",
       "      <td>0.195</td>\n",
       "      <td>0.248</td>\n",
       "      <td>1</td>\n",
       "    </tr>\n",
       "    <tr>\n",
       "      <th>2</th>\n",
       "      <td>0.785932</td>\n",
       "      <td>-1.595466</td>\n",
       "      <td>1.898804</td>\n",
       "      <td>-1.057120</td>\n",
       "      <td>0.484</td>\n",
       "      <td>0.195</td>\n",
       "      <td>0.276</td>\n",
       "      <td>1</td>\n",
       "    </tr>\n",
       "    <tr>\n",
       "      <th>3</th>\n",
       "      <td>-0.548264</td>\n",
       "      <td>-1.283942</td>\n",
       "      <td>-1.085667</td>\n",
       "      <td>0.352900</td>\n",
       "      <td>0.504</td>\n",
       "      <td>0.195</td>\n",
       "      <td>0.276</td>\n",
       "      <td>1</td>\n",
       "    </tr>\n",
       "    <tr>\n",
       "      <th>4</th>\n",
       "      <td>-1.888067</td>\n",
       "      <td>-0.267894</td>\n",
       "      <td>1.913928</td>\n",
       "      <td>1.101429</td>\n",
       "      <td>0.484</td>\n",
       "      <td>0.195</td>\n",
       "      <td>0.553</td>\n",
       "      <td>1</td>\n",
       "    </tr>\n",
       "    <tr>\n",
       "      <th>...</th>\n",
       "      <td>...</td>\n",
       "      <td>...</td>\n",
       "      <td>...</td>\n",
       "      <td>...</td>\n",
       "      <td>...</td>\n",
       "      <td>...</td>\n",
       "      <td>...</td>\n",
       "      <td>...</td>\n",
       "    </tr>\n",
       "    <tr>\n",
       "      <th>251150</th>\n",
       "      <td>-0.312818</td>\n",
       "      <td>1.342446</td>\n",
       "      <td>0.260370</td>\n",
       "      <td>-0.970082</td>\n",
       "      <td>0.322</td>\n",
       "      <td>0.195</td>\n",
       "      <td>0.511</td>\n",
       "      <td>1</td>\n",
       "    </tr>\n",
       "    <tr>\n",
       "      <th>251151</th>\n",
       "      <td>-0.951887</td>\n",
       "      <td>0.906312</td>\n",
       "      <td>-0.304260</td>\n",
       "      <td>-1.992782</td>\n",
       "      <td>0.496</td>\n",
       "      <td>0.195</td>\n",
       "      <td>0.553</td>\n",
       "      <td>1</td>\n",
       "    </tr>\n",
       "    <tr>\n",
       "      <th>251152</th>\n",
       "      <td>0.701844</td>\n",
       "      <td>-1.633808</td>\n",
       "      <td>-0.465583</td>\n",
       "      <td>0.596607</td>\n",
       "      <td>0.495</td>\n",
       "      <td>0.215</td>\n",
       "      <td>0.436</td>\n",
       "      <td>1</td>\n",
       "    </tr>\n",
       "    <tr>\n",
       "      <th>251153</th>\n",
       "      <td>0.679421</td>\n",
       "      <td>-0.124114</td>\n",
       "      <td>0.865330</td>\n",
       "      <td>-1.727315</td>\n",
       "      <td>0.488</td>\n",
       "      <td>0.063</td>\n",
       "      <td>0.306</td>\n",
       "      <td>1</td>\n",
       "    </tr>\n",
       "    <tr>\n",
       "      <th>251154</th>\n",
       "      <td>-1.820796</td>\n",
       "      <td>-0.751955</td>\n",
       "      <td>-0.480707</td>\n",
       "      <td>-0.678504</td>\n",
       "      <td>0.253</td>\n",
       "      <td>0.195</td>\n",
       "      <td>0.346</td>\n",
       "      <td>1</td>\n",
       "    </tr>\n",
       "  </tbody>\n",
       "</table>\n",
       "<p>251155 rows × 8 columns</p>\n",
       "</div>"
      ],
      "text/plain": [
       "        origin_latitude  origin_longitude  destination_latitude  \\\n",
       "0              0.853203         -1.600259              0.668718   \n",
       "1             -0.391300          0.412666             -0.122772   \n",
       "2              0.785932         -1.595466              1.898804   \n",
       "3             -0.548264         -1.283942             -1.085667   \n",
       "4             -1.888067         -0.267894              1.913928   \n",
       "...                 ...               ...                   ...   \n",
       "251150        -0.312818          1.342446              0.260370   \n",
       "251151        -0.951887          0.906312             -0.304260   \n",
       "251152         0.701844         -1.633808             -0.465583   \n",
       "251153         0.679421         -0.124114              0.865330   \n",
       "251154        -1.820796         -0.751955             -0.480707   \n",
       "\n",
       "        destination_longitude  weight  loading_meters   cost  is_adr_True  \n",
       "0                   -0.130163   0.513           0.195  0.247            1  \n",
       "1                   -0.164978   0.484           0.195  0.248            1  \n",
       "2                   -1.057120   0.484           0.195  0.276            1  \n",
       "3                    0.352900   0.504           0.195  0.276            1  \n",
       "4                    1.101429   0.484           0.195  0.553            1  \n",
       "...                       ...     ...             ...    ...          ...  \n",
       "251150              -0.970082   0.322           0.195  0.511            1  \n",
       "251151              -1.992782   0.496           0.195  0.553            1  \n",
       "251152               0.596607   0.495           0.215  0.436            1  \n",
       "251153              -1.727315   0.488           0.063  0.306            1  \n",
       "251154              -0.678504   0.253           0.195  0.346            1  \n",
       "\n",
       "[251155 rows x 8 columns]"
      ]
     },
     "execution_count": 12,
     "metadata": {},
     "output_type": "execute_result"
    }
   ],
   "source": [
    "new_df"
   ]
  },
  {
   "cell_type": "code",
   "execution_count": 13,
   "metadata": {},
   "outputs": [
    {
     "data": {
      "text/html": [
       "<div>\n",
       "<style scoped>\n",
       "    .dataframe tbody tr th:only-of-type {\n",
       "        vertical-align: middle;\n",
       "    }\n",
       "\n",
       "    .dataframe tbody tr th {\n",
       "        vertical-align: top;\n",
       "    }\n",
       "\n",
       "    .dataframe thead th {\n",
       "        text-align: right;\n",
       "    }\n",
       "</style>\n",
       "<table border=\"1\" class=\"dataframe\">\n",
       "  <thead>\n",
       "    <tr style=\"text-align: right;\">\n",
       "      <th></th>\n",
       "      <th>origin_latitude</th>\n",
       "      <th>origin_longitude</th>\n",
       "      <th>destination_latitude</th>\n",
       "      <th>destination_longitude</th>\n",
       "      <th>weight</th>\n",
       "      <th>loading_meters</th>\n",
       "      <th>cost</th>\n",
       "      <th>is_adr_True</th>\n",
       "    </tr>\n",
       "  </thead>\n",
       "  <tbody>\n",
       "    <tr>\n",
       "      <th>origin_latitude</th>\n",
       "      <td>1.000000</td>\n",
       "      <td>0.141741</td>\n",
       "      <td>0.027201</td>\n",
       "      <td>-0.012531</td>\n",
       "      <td>0.005787</td>\n",
       "      <td>-0.077565</td>\n",
       "      <td>0.035691</td>\n",
       "      <td>NaN</td>\n",
       "    </tr>\n",
       "    <tr>\n",
       "      <th>origin_longitude</th>\n",
       "      <td>0.141741</td>\n",
       "      <td>1.000000</td>\n",
       "      <td>0.097723</td>\n",
       "      <td>0.112161</td>\n",
       "      <td>-0.167042</td>\n",
       "      <td>-0.092156</td>\n",
       "      <td>0.001075</td>\n",
       "      <td>NaN</td>\n",
       "    </tr>\n",
       "    <tr>\n",
       "      <th>destination_latitude</th>\n",
       "      <td>0.027201</td>\n",
       "      <td>0.097723</td>\n",
       "      <td>1.000000</td>\n",
       "      <td>0.226907</td>\n",
       "      <td>-0.024997</td>\n",
       "      <td>0.045922</td>\n",
       "      <td>0.073673</td>\n",
       "      <td>NaN</td>\n",
       "    </tr>\n",
       "    <tr>\n",
       "      <th>destination_longitude</th>\n",
       "      <td>-0.012531</td>\n",
       "      <td>0.112161</td>\n",
       "      <td>0.226907</td>\n",
       "      <td>1.000000</td>\n",
       "      <td>0.014606</td>\n",
       "      <td>0.028057</td>\n",
       "      <td>0.040892</td>\n",
       "      <td>NaN</td>\n",
       "    </tr>\n",
       "    <tr>\n",
       "      <th>weight</th>\n",
       "      <td>0.005787</td>\n",
       "      <td>-0.167042</td>\n",
       "      <td>-0.024997</td>\n",
       "      <td>0.014606</td>\n",
       "      <td>1.000000</td>\n",
       "      <td>-0.282942</td>\n",
       "      <td>-0.051613</td>\n",
       "      <td>NaN</td>\n",
       "    </tr>\n",
       "    <tr>\n",
       "      <th>loading_meters</th>\n",
       "      <td>-0.077565</td>\n",
       "      <td>-0.092156</td>\n",
       "      <td>0.045922</td>\n",
       "      <td>0.028057</td>\n",
       "      <td>-0.282942</td>\n",
       "      <td>1.000000</td>\n",
       "      <td>0.048427</td>\n",
       "      <td>NaN</td>\n",
       "    </tr>\n",
       "    <tr>\n",
       "      <th>cost</th>\n",
       "      <td>0.035691</td>\n",
       "      <td>0.001075</td>\n",
       "      <td>0.073673</td>\n",
       "      <td>0.040892</td>\n",
       "      <td>-0.051613</td>\n",
       "      <td>0.048427</td>\n",
       "      <td>1.000000</td>\n",
       "      <td>NaN</td>\n",
       "    </tr>\n",
       "    <tr>\n",
       "      <th>is_adr_True</th>\n",
       "      <td>NaN</td>\n",
       "      <td>NaN</td>\n",
       "      <td>NaN</td>\n",
       "      <td>NaN</td>\n",
       "      <td>NaN</td>\n",
       "      <td>NaN</td>\n",
       "      <td>NaN</td>\n",
       "      <td>NaN</td>\n",
       "    </tr>\n",
       "  </tbody>\n",
       "</table>\n",
       "</div>"
      ],
      "text/plain": [
       "                       origin_latitude  origin_longitude  \\\n",
       "origin_latitude               1.000000          0.141741   \n",
       "origin_longitude              0.141741          1.000000   \n",
       "destination_latitude          0.027201          0.097723   \n",
       "destination_longitude        -0.012531          0.112161   \n",
       "weight                        0.005787         -0.167042   \n",
       "loading_meters               -0.077565         -0.092156   \n",
       "cost                          0.035691          0.001075   \n",
       "is_adr_True                        NaN               NaN   \n",
       "\n",
       "                       destination_latitude  destination_longitude    weight  \\\n",
       "origin_latitude                    0.027201              -0.012531  0.005787   \n",
       "origin_longitude                   0.097723               0.112161 -0.167042   \n",
       "destination_latitude               1.000000               0.226907 -0.024997   \n",
       "destination_longitude              0.226907               1.000000  0.014606   \n",
       "weight                            -0.024997               0.014606  1.000000   \n",
       "loading_meters                     0.045922               0.028057 -0.282942   \n",
       "cost                               0.073673               0.040892 -0.051613   \n",
       "is_adr_True                             NaN                    NaN       NaN   \n",
       "\n",
       "                       loading_meters      cost  is_adr_True  \n",
       "origin_latitude             -0.077565  0.035691          NaN  \n",
       "origin_longitude            -0.092156  0.001075          NaN  \n",
       "destination_latitude         0.045922  0.073673          NaN  \n",
       "destination_longitude        0.028057  0.040892          NaN  \n",
       "weight                      -0.282942 -0.051613          NaN  \n",
       "loading_meters               1.000000  0.048427          NaN  \n",
       "cost                         0.048427  1.000000          NaN  \n",
       "is_adr_True                       NaN       NaN          NaN  "
      ]
     },
     "execution_count": 13,
     "metadata": {},
     "output_type": "execute_result"
    }
   ],
   "source": [
    "new_df.corr()"
   ]
  },
  {
   "cell_type": "code",
   "execution_count": 27,
   "metadata": {},
   "outputs": [],
   "source": [
    "X = new_df.loc[:, new_df.columns != 'cost']\n"
   ]
  },
  {
   "cell_type": "code",
   "execution_count": 30,
   "metadata": {},
   "outputs": [
    {
     "data": {
      "text/html": [
       "<div>\n",
       "<style scoped>\n",
       "    .dataframe tbody tr th:only-of-type {\n",
       "        vertical-align: middle;\n",
       "    }\n",
       "\n",
       "    .dataframe tbody tr th {\n",
       "        vertical-align: top;\n",
       "    }\n",
       "\n",
       "    .dataframe thead th {\n",
       "        text-align: right;\n",
       "    }\n",
       "</style>\n",
       "<table border=\"1\" class=\"dataframe\">\n",
       "  <thead>\n",
       "    <tr style=\"text-align: right;\">\n",
       "      <th></th>\n",
       "      <th>origin_latitude</th>\n",
       "      <th>origin_longitude</th>\n",
       "      <th>destination_latitude</th>\n",
       "      <th>destination_longitude</th>\n",
       "      <th>weight</th>\n",
       "      <th>loading_meters</th>\n",
       "      <th>is_adr_True</th>\n",
       "    </tr>\n",
       "  </thead>\n",
       "  <tbody>\n",
       "    <tr>\n",
       "      <th>0</th>\n",
       "      <td>0.853203</td>\n",
       "      <td>-1.600259</td>\n",
       "      <td>0.668718</td>\n",
       "      <td>-0.130163</td>\n",
       "      <td>0.513</td>\n",
       "      <td>0.195</td>\n",
       "      <td>1</td>\n",
       "    </tr>\n",
       "    <tr>\n",
       "      <th>1</th>\n",
       "      <td>-0.391300</td>\n",
       "      <td>0.412666</td>\n",
       "      <td>-0.122772</td>\n",
       "      <td>-0.164978</td>\n",
       "      <td>0.484</td>\n",
       "      <td>0.195</td>\n",
       "      <td>1</td>\n",
       "    </tr>\n",
       "    <tr>\n",
       "      <th>2</th>\n",
       "      <td>0.785932</td>\n",
       "      <td>-1.595466</td>\n",
       "      <td>1.898804</td>\n",
       "      <td>-1.057120</td>\n",
       "      <td>0.484</td>\n",
       "      <td>0.195</td>\n",
       "      <td>1</td>\n",
       "    </tr>\n",
       "  </tbody>\n",
       "</table>\n",
       "</div>"
      ],
      "text/plain": [
       "   origin_latitude  origin_longitude  destination_latitude  \\\n",
       "0         0.853203         -1.600259              0.668718   \n",
       "1        -0.391300          0.412666             -0.122772   \n",
       "2         0.785932         -1.595466              1.898804   \n",
       "\n",
       "   destination_longitude  weight  loading_meters  is_adr_True  \n",
       "0              -0.130163   0.513           0.195            1  \n",
       "1              -0.164978   0.484           0.195            1  \n",
       "2              -1.057120   0.484           0.195            1  "
      ]
     },
     "execution_count": 30,
     "metadata": {},
     "output_type": "execute_result"
    }
   ],
   "source": [
    "X.head(3)"
   ]
  },
  {
   "cell_type": "code",
   "execution_count": 28,
   "metadata": {},
   "outputs": [],
   "source": [
    "y = new_df.iloc[:,-2]"
   ]
  },
  {
   "cell_type": "code",
   "execution_count": 31,
   "metadata": {},
   "outputs": [
    {
     "data": {
      "text/plain": [
       "0    0.247\n",
       "1    0.248\n",
       "2    0.276\n",
       "Name: cost, dtype: float64"
      ]
     },
     "execution_count": 31,
     "metadata": {},
     "output_type": "execute_result"
    }
   ],
   "source": [
    "y.head(3)"
   ]
  },
  {
   "cell_type": "code",
   "execution_count": 32,
   "metadata": {},
   "outputs": [
    {
     "data": {
      "text/plain": [
       "((251155, 7), (251155,))"
      ]
     },
     "execution_count": 32,
     "metadata": {},
     "output_type": "execute_result"
    }
   ],
   "source": [
    "X.shape,y.shape"
   ]
  },
  {
   "cell_type": "code",
   "execution_count": 33,
   "metadata": {},
   "outputs": [],
   "source": [
    "from sklearn.model_selection import train_test_split"
   ]
  },
  {
   "cell_type": "code",
   "execution_count": 34,
   "metadata": {},
   "outputs": [],
   "source": [
    "X_train, X_test, y_train, y_test = train_test_split(X, y, test_size=0.33, random_state=42)"
   ]
  },
  {
   "cell_type": "code",
   "execution_count": 35,
   "metadata": {},
   "outputs": [
    {
     "data": {
      "text/html": [
       "<div>\n",
       "<style scoped>\n",
       "    .dataframe tbody tr th:only-of-type {\n",
       "        vertical-align: middle;\n",
       "    }\n",
       "\n",
       "    .dataframe tbody tr th {\n",
       "        vertical-align: top;\n",
       "    }\n",
       "\n",
       "    .dataframe thead th {\n",
       "        text-align: right;\n",
       "    }\n",
       "</style>\n",
       "<table border=\"1\" class=\"dataframe\">\n",
       "  <thead>\n",
       "    <tr style=\"text-align: right;\">\n",
       "      <th></th>\n",
       "      <th>origin_latitude</th>\n",
       "      <th>origin_longitude</th>\n",
       "      <th>destination_latitude</th>\n",
       "      <th>destination_longitude</th>\n",
       "      <th>weight</th>\n",
       "      <th>loading_meters</th>\n",
       "      <th>is_adr_True</th>\n",
       "    </tr>\n",
       "  </thead>\n",
       "  <tbody>\n",
       "    <tr>\n",
       "      <th>192604</th>\n",
       "      <td>1.290460</td>\n",
       "      <td>1.907982</td>\n",
       "      <td>-1.010047</td>\n",
       "      <td>-0.095347</td>\n",
       "      <td>0.116</td>\n",
       "      <td>0.195</td>\n",
       "      <td>1</td>\n",
       "    </tr>\n",
       "    <tr>\n",
       "      <th>224624</th>\n",
       "      <td>-1.820796</td>\n",
       "      <td>-0.751955</td>\n",
       "      <td>2.135747</td>\n",
       "      <td>0.674942</td>\n",
       "      <td>0.289</td>\n",
       "      <td>0.195</td>\n",
       "      <td>1</td>\n",
       "    </tr>\n",
       "    <tr>\n",
       "      <th>46319</th>\n",
       "      <td>-1.310662</td>\n",
       "      <td>-0.301443</td>\n",
       "      <td>-1.120957</td>\n",
       "      <td>0.261510</td>\n",
       "      <td>0.484</td>\n",
       "      <td>0.195</td>\n",
       "      <td>1</td>\n",
       "    </tr>\n",
       "  </tbody>\n",
       "</table>\n",
       "</div>"
      ],
      "text/plain": [
       "        origin_latitude  origin_longitude  destination_latitude  \\\n",
       "192604         1.290460          1.907982             -1.010047   \n",
       "224624        -1.820796         -0.751955              2.135747   \n",
       "46319         -1.310662         -0.301443             -1.120957   \n",
       "\n",
       "        destination_longitude  weight  loading_meters  is_adr_True  \n",
       "192604              -0.095347   0.116           0.195            1  \n",
       "224624               0.674942   0.289           0.195            1  \n",
       "46319                0.261510   0.484           0.195            1  "
      ]
     },
     "execution_count": 35,
     "metadata": {},
     "output_type": "execute_result"
    }
   ],
   "source": [
    "X_train.head(3)"
   ]
  },
  {
   "cell_type": "code",
   "execution_count": 36,
   "metadata": {},
   "outputs": [
    {
     "data": {
      "text/plain": [
       "192604    0.514\n",
       "224624    0.691\n",
       "46319     0.248\n",
       "Name: cost, dtype: float64"
      ]
     },
     "execution_count": 36,
     "metadata": {},
     "output_type": "execute_result"
    }
   ],
   "source": [
    "y_train.head(3)"
   ]
  },
  {
   "cell_type": "code",
   "execution_count": 37,
   "metadata": {},
   "outputs": [
    {
     "data": {
      "text/plain": [
       "((168273, 7), (168273,), (82882, 7), (82882,))"
      ]
     },
     "execution_count": 37,
     "metadata": {},
     "output_type": "execute_result"
    }
   ],
   "source": [
    "X_train.shape, y_train.shape,X_test.shape,y_test.shape"
   ]
  },
  {
   "cell_type": "code",
   "execution_count": 38,
   "metadata": {},
   "outputs": [
    {
     "data": {
      "text/plain": [
       "XGBRegressor(base_score=0.5, booster='gbtree', colsample_bylevel=1,\n",
       "             colsample_bynode=1, colsample_bytree=1, gamma=0, gpu_id=-1,\n",
       "             importance_type='gain', interaction_constraints='',\n",
       "             learning_rate=0.300000012, max_delta_step=0, max_depth=6,\n",
       "             min_child_weight=1, missing=nan, monotone_constraints='()',\n",
       "             n_estimators=100, n_jobs=8, num_parallel_tree=1, random_state=0,\n",
       "             reg_alpha=0, reg_lambda=1, scale_pos_weight=1, subsample=1,\n",
       "             tree_method='exact', validate_parameters=1, verbosity=None)"
      ]
     },
     "execution_count": 38,
     "metadata": {},
     "output_type": "execute_result"
    }
   ],
   "source": [
    "import xgboost\n",
    "reg = xgboost.XGBRegressor()\n",
    "reg.fit(X_train,y_train)"
   ]
  },
  {
   "cell_type": "code",
   "execution_count": 39,
   "metadata": {},
   "outputs": [],
   "source": [
    "y_predict = reg.predict(X_test)"
   ]
  },
  {
   "cell_type": "code",
   "execution_count": 40,
   "metadata": {},
   "outputs": [
    {
     "data": {
      "text/plain": [
       "82882"
      ]
     },
     "execution_count": 40,
     "metadata": {},
     "output_type": "execute_result"
    }
   ],
   "source": [
    "len(y_predict)"
   ]
  },
  {
   "cell_type": "code",
   "execution_count": 41,
   "metadata": {},
   "outputs": [
    {
     "data": {
      "text/plain": [
       "array([0.44980147, 0.35991433, 0.5438993 , ..., 0.3742109 , 0.32893318,\n",
       "       0.3613136 ], dtype=float32)"
      ]
     },
     "execution_count": 41,
     "metadata": {},
     "output_type": "execute_result"
    }
   ],
   "source": [
    "y_predict"
   ]
  },
  {
   "cell_type": "code",
   "execution_count": 42,
   "metadata": {},
   "outputs": [],
   "source": [
    "from sklearn.metrics import mean_squared_error\n",
    "from sklearn.metrics import mean_absolute_error"
   ]
  },
  {
   "cell_type": "code",
   "execution_count": 43,
   "metadata": {},
   "outputs": [],
   "source": [
    "errors_1 = mean_squared_error(y_test, y_predict)\n",
    "errors_2 = mean_absolute_error(y_test, y_predict)"
   ]
  },
  {
   "cell_type": "code",
   "execution_count": 44,
   "metadata": {},
   "outputs": [
    {
     "data": {
      "text/plain": [
       "0.003036125348683548"
      ]
     },
     "execution_count": 44,
     "metadata": {},
     "output_type": "execute_result"
    }
   ],
   "source": [
    "errors_1"
   ]
  },
  {
   "cell_type": "code",
   "execution_count": 45,
   "metadata": {},
   "outputs": [
    {
     "data": {
      "text/plain": [
       "0.03467364537658488"
      ]
     },
     "execution_count": 45,
     "metadata": {},
     "output_type": "execute_result"
    }
   ],
   "source": [
    "errors_2"
   ]
  },
  {
   "cell_type": "code",
   "execution_count": 46,
   "metadata": {},
   "outputs": [
    {
     "name": "stdout",
     "output_type": "stream",
     "text": [
      "0.8189642742650559\n"
     ]
    }
   ],
   "source": [
    "from sklearn.metrics import r2_score\n",
    "r2 = r2_score(y_test, y_predict)\n",
    "print(r2)"
   ]
  },
  {
   "cell_type": "code",
   "execution_count": null,
   "metadata": {},
   "outputs": [],
   "source": []
  },
  {
   "cell_type": "code",
   "execution_count": null,
   "metadata": {},
   "outputs": [],
   "source": []
  },
  {
   "cell_type": "code",
   "execution_count": 61,
   "metadata": {},
   "outputs": [],
   "source": [
    "from sklearn.ensemble import RandomForestRegressor\n",
    "regressor_1 = RandomForestRegressor(n_estimators=1000)"
   ]
  },
  {
   "cell_type": "code",
   "execution_count": 62,
   "metadata": {},
   "outputs": [
    {
     "data": {
      "text/plain": [
       "RandomForestRegressor(n_estimators=1000)"
      ]
     },
     "execution_count": 62,
     "metadata": {},
     "output_type": "execute_result"
    }
   ],
   "source": [
    "regressor_1.fit(X_train,y_train)"
   ]
  },
  {
   "cell_type": "code",
   "execution_count": 63,
   "metadata": {},
   "outputs": [],
   "source": [
    "y_predict_1 = regressor_1.predict(X_test)"
   ]
  },
  {
   "cell_type": "code",
   "execution_count": 64,
   "metadata": {},
   "outputs": [],
   "source": [
    "errors_11 = mean_squared_error(y_test, y_predict_1)\n",
    "errors_22 = mean_absolute_error(y_test, y_predict_1)"
   ]
  },
  {
   "cell_type": "code",
   "execution_count": 65,
   "metadata": {},
   "outputs": [
    {
     "data": {
      "text/plain": [
       "0.003023547412761689"
      ]
     },
     "execution_count": 65,
     "metadata": {},
     "output_type": "execute_result"
    }
   ],
   "source": [
    "errors_11"
   ]
  },
  {
   "cell_type": "code",
   "execution_count": 66,
   "metadata": {},
   "outputs": [
    {
     "data": {
      "text/plain": [
       "0.03236327868000967"
      ]
     },
     "execution_count": 66,
     "metadata": {},
     "output_type": "execute_result"
    }
   ],
   "source": [
    "errors_22"
   ]
  },
  {
   "cell_type": "code",
   "execution_count": 67,
   "metadata": {},
   "outputs": [
    {
     "name": "stdout",
     "output_type": "stream",
     "text": [
      "0.8197142616655593\n"
     ]
    }
   ],
   "source": [
    "r2_1 = r2_score(y_test, y_predict_1)\n",
    "print(r2_1)"
   ]
  },
  {
   "cell_type": "code",
   "execution_count": 73,
   "metadata": {},
   "outputs": [],
   "source": [
    "import matplotlib.pyplot as plt\n",
    "%matplotlib inline\n",
    "import seaborn as sns"
   ]
  },
  {
   "cell_type": "code",
   "execution_count": 76,
   "metadata": {
    "scrolled": false
   },
   "outputs": [
    {
     "data": {
      "image/png": "[encoded data removed]",
      "text/plain": [
       "<Figure size 1080x504 with 1 Axes>"
      ]
     },
     "metadata": {
      "needs_background": "light"
     },
     "output_type": "display_data"
    },
    {
     "data": {
      "image/png": "[encoded data removed]",
      "text/plain": [
       "<Figure size 1080x504 with 1 Axes>"
      ]
     },
     "metadata": {
      "needs_background": "light"
     },
     "output_type": "display_data"
    },
    {
     "data": {
      "image/png": "[encoded data removed]",
      "text/plain": [
       "<Figure size 1080x504 with 1 Axes>"
      ]
     },
     "metadata": {
      "needs_background": "light"
     },
     "output_type": "display_data"
    },
    {
     "data": {
      "image/png": "[encoded data removed]",
      "text/plain": [
       "<Figure size 1080x504 with 1 Axes>"
      ]
     },
     "metadata": {
      "needs_background": "light"
     },
     "output_type": "display_data"
    },
    {
     "data": {
      "image/png": "[encoded data removed]",
      "text/plain": [
       "<Figure size 1080x504 with 1 Axes>"
      ]
     },
     "metadata": {
      "needs_background": "light"
     },
     "output_type": "display_data"
    },
    {
     "data": {
      "image/png": "[encoded data removed]",
      "text/plain": [
       "<Figure size 1080x504 with 1 Axes>"
      ]
     },
     "metadata": {
      "needs_background": "light"
     },
     "output_type": "display_data"
    }
   ],
   "source": [
    "columns=[\"origin_latitude\",\"origin_longitude\",\"destination_latitude\",\"destination_longitude\",\"weight\",\"loading_meters\"]\n",
    "\n",
    "for x in columns:\n",
    "    plt.figure(figsize=(15,7))\n",
    "    plt.scatter(new_df[x],new_df[\"cost\"])\n",
    "    plt.show()"
   ]
  },
  {
   "cell_type": "code",
   "execution_count": null,
   "metadata": {},
   "outputs": [],
   "source": []
  }
 ],
 "metadata": {
  "kernelspec": {
   "display_name": "Python 3",
   "language": "python",
   "name": "python3"
  },
  "language_info": {
   "codemirror_mode": {
    "name": "ipython",
    "version": 3
   },
   "file_extension": ".py",
   "mimetype": "text/x-python",
   "name": "python",
   "nbconvert_exporter": "python",
   "pygments_lexer": "ipython3",
   "version": "3.7.3"
  }
 },
 "nbformat": 4,
 "nbformat_minor": 2
}
